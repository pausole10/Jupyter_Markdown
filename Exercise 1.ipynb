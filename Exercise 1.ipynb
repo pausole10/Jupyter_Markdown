{
 "cells": [
  {
   "cell_type": "markdown",
   "id": "da434a58",
   "metadata": {
    "heading_collapsed": true
   },
   "source": [
    "## Exercise 1"
   ]
  },
  {
   "cell_type": "code",
   "execution_count": 3,
   "id": "6bef39e4",
   "metadata": {
    "hidden": true
   },
   "outputs": [
    {
     "name": "stdout",
     "output_type": "stream",
     "text": [
      "7.0\n"
     ]
    }
   ],
   "source": [
    "mark_1 = 6\n",
    "mark_2 = 8\n",
    "average = (nota_1 + nota_2) /2\n",
    "print(average)"
   ]
  },
  {
   "cell_type": "markdown",
   "id": "af5f8044",
   "metadata": {
    "heading_collapsed": true
   },
   "source": [
    "# Level 1"
   ]
  },
  {
   "cell_type": "markdown",
   "id": "69a14e36",
   "metadata": {
    "hidden": true
   },
   "source": [
    "i = 1\n",
    "    **while** i <= 5:\n",
    "    print (i)\n",
    "    i += 1\n",
    "    if i ==3\n",
    "        print (\"Skip 3\")\n",
    "            *continue*\n",
    "            \n",
    "\n"
   ]
  },
  {
   "cell_type": "markdown",
   "id": "962ed095",
   "metadata": {
    "heading_collapsed": true,
    "hidden": true
   },
   "source": [
    "## Level 2"
   ]
  },
  {
   "cell_type": "code",
   "execution_count": 5,
   "id": "17b8ce90",
   "metadata": {
    "hidden": true
   },
   "outputs": [
    {
     "name": "stdout",
     "output_type": "stream",
     "text": [
      "13\n",
      "13\n"
     ]
    }
   ],
   "source": [
    "def print_sum_twice(x,y):\n",
    "    print(x+y)\n",
    "    print(x+y)\n",
    "    \n",
    "print_sum_twice(5,8)\n"
   ]
  },
  {
   "cell_type": "markdown",
   "id": "ec2dfd8b",
   "metadata": {
    "hidden": true
   },
   "source": [
    "1. Defining function\n",
    "def multiply (x,y):\n",
    "    return x * y\n",
    "\n",
    "2. Defining variables: \n",
    "a = 4\n",
    "b = 7\n",
    "\n",
    "operation = multiply\n",
    "\n",
    "3. Print the result\n",
    "\n",
    "print (operation (a,b))\n",
    "28"
   ]
  },
  {
   "cell_type": "markdown",
   "id": "deedb900",
   "metadata": {
    "heading_collapsed": true,
    "hidden": true
   },
   "source": [
    "### Level 3"
   ]
  },
  {
   "cell_type": "code",
   "execution_count": 1,
   "id": "d2602c52",
   "metadata": {
    "hidden": true
   },
   "outputs": [
    {
     "name": "stdout",
     "output_type": "stream",
     "text": [
      "Holapau\n",
      "20\n",
      "35\n",
      "[9, 6, 8, 9, 6, 8]\n",
      "[6, 8]\n",
      "8\n",
      "paupau\n"
     ]
    }
   ],
   "source": [
    "a = 5\n",
    "b = 7\n",
    "c = [9, 6, 8]\n",
    "d = 'pau'\n",
    "\n",
    "print ('Hola' + d)\n",
    "print(a*4)\n",
    "print(b*a)\n",
    "print(c+c)\n",
    "print(c[1:])\n",
    "print(c[-1])\n",
    "print (d * 2)\n",
    "\n",
    "\n",
    "\n"
   ]
  },
  {
   "cell_type": "markdown",
   "id": "e048874e",
   "metadata": {
    "hidden": true
   },
   "source": [
    "+ car 1 = 'renault'\n",
    "+ car 2 = 'ferrari'\n",
    "+ car 3 = 'audi'\n",
    "    + moto 1 = 'ducati' \n",
    "    + moto 2 = 'yamaha'\n",
    "\n",
    "[car magazine](https://www.km77.com/)\n",
    "\n",
    "![images](ferrari.jpg)\n",
    "    "
   ]
  }
 ],
 "metadata": {
  "kernelspec": {
   "display_name": "Python 3 (ipykernel)",
   "language": "python",
   "name": "python3"
  },
  "language_info": {
   "codemirror_mode": {
    "name": "ipython",
    "version": 3
   },
   "file_extension": ".py",
   "mimetype": "text/x-python",
   "name": "python",
   "nbconvert_exporter": "python",
   "pygments_lexer": "ipython3",
   "version": "3.9.7"
  }
 },
 "nbformat": 4,
 "nbformat_minor": 5
}
